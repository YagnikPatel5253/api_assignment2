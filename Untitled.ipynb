{
 "cells": [
  {
   "cell_type": "markdown",
   "id": "3aaf1cc4-4387-4343-a897-0b8d60a779d8",
   "metadata": {},
   "source": [
    "Question 1"
   ]
  },
  {
   "cell_type": "raw",
   "id": "43d0746e-492e-4d94-91d1-d87152bf1242",
   "metadata": {},
   "source": [
    "GET method:\n",
    "\n",
    "--> GET is used to retrieve or fetch data from a specified resource on the server.\n",
    "--> When a client sends a GET request, it includes parameters in the URL's query string to specify the data it wants to retrieve.\n",
    "--> GET requests are idempotent, meaning multiple identical requests should have the same effect as a single request.\n",
    "--> For instance, when you enter a URL in a web browser, it sends a GET request to retrieve the webpage's content.\n",
    "\n",
    "\n",
    "POST method:\n",
    "\n",
    "--> POST is used to submit data to be processed to a specified resource on the server.\n",
    "--> When a client sends a POST request, the data is included in the request body, separate from the URL.\n",
    "--> POST requests can have side effects on the server, such as modifying data or triggering actions.\n",
    "--> POST requests are commonly used for creating or updating data on the server, such as submitting a form or adding an entry to a database."
   ]
  },
  {
   "cell_type": "markdown",
   "id": "9fed7d21-1169-4ce1-9657-af0bad1a841a",
   "metadata": {},
   "source": [
    "Question 2"
   ]
  },
  {
   "cell_type": "raw",
   "id": "256e8fc5-0fd5-419e-aec5-fbd253246a87",
   "metadata": {},
   "source": [
    "--> The request object is used to handle incoming HTTP requests from clients. It provides access to various information and data related to the request. \n",
    "\n",
    "Here are some examples: \n",
    "\n",
    "1) Accessing request data: The request object allows you to access data sent by the client in the request, such as form data, query parameters, or JSON payloads.\n",
    "\n",
    "2) Handling HTTP methods: The request object helps determine the HTTP method used in the request for example: (GET, POST, PUT, DELETE). \n",
    "\n",
    "3) Handling file uploads: The request object enables the handling of file uploads from clients. It provides access to files uploaded in the request through the request.files attribute.\n",
    "\n",
    "4) Handling cookies: The request object allows us to retrieve and manipulate cookies sent by the client."
   ]
  },
  {
   "cell_type": "markdown",
   "id": "cd07ec1b-c3fa-4d01-921e-7d6fd427ab66",
   "metadata": {},
   "source": [
    "Question 3"
   ]
  },
  {
   "cell_type": "raw",
   "id": "f73a9086-0369-4a3d-a20e-8eb2bfbbe013",
   "metadata": {},
   "source": [
    "--> The redirect() function in Flask is used to redirect the client's web browser to a different URL.\n",
    "\n",
    "Here are some examples: \n",
    "\n",
    "1) Handling clean and user-friendly URLs: redirect() is useful for redirecting users from URL patterns that have changed or providing them with more user-friendly URLs. For example, if a user visits an outdated URL, the server can use redirect() to redirect them to the new, updated URL.\n",
    "\n",
    "2) Handling conditional redirects: Based on certain conditions or business logic, the server may need to redirect the user to different pages or URLs. By using redirect(), the server can dynamically determine the appropriate destination based on the current context.\n",
    "\n",
    "3) Handling authentication and authorization: When implementing authentication and authorization systems, redirecting the user to specific pages based on their access privileges is common. For instance, if a user tries to access a protected resource without being logged in, the server can redirect them to a login page using redirect()."
   ]
  },
  {
   "cell_type": "markdown",
   "id": "f0290f9b-fe12-4a18-aba4-f9ea76ae92a8",
   "metadata": {},
   "source": [
    "Question 4"
   ]
  },
  {
   "cell_type": "raw",
   "id": "e09da69a-d5ba-462f-aa07-73a028a6f142",
   "metadata": {},
   "source": [
    "--> Templates in Flask are files that contain the structure and layout of web pages,they are used to separate the presentation logic from the application logic, enabling developers to create dynamic and reusable HTML pages. \n",
    "\n",
    "--> The render_template() function in Flask is used to render and display HTML templates.\n",
    "\n",
    "--> HTML escaping and sanitization: The render_template() function automatically escapes and sanitizes any variables passed to the template.\n",
    "\n",
    "--> Dynamic content generation: Templates allow us to generate dynamic content by incorporating variables and logic within the HTML structure. With the use of render_template(), we can pass data from your Flask application to the template, allowing it to be displayed dynamically. For example, we can pass a list of items from a database query and loop over them in the template to generate a dynamic list."
   ]
  },
  {
   "cell_type": "markdown",
   "id": "91a30ff9-5af8-4d72-add2-725cebbbc086",
   "metadata": {},
   "source": [
    "Question 5"
   ]
  },
  {
   "cell_type": "markdown",
   "id": "debce08f-f130-40db-ba0e-3fc6d9d276c8",
   "metadata": {},
   "source": [
    "![pwz](question5.png)"
   ]
  }
 ],
 "metadata": {
  "kernelspec": {
   "display_name": "Python 3 (ipykernel)",
   "language": "python",
   "name": "python3"
  },
  "language_info": {
   "codemirror_mode": {
    "name": "ipython",
    "version": 3
   },
   "file_extension": ".py",
   "mimetype": "text/x-python",
   "name": "python",
   "nbconvert_exporter": "python",
   "pygments_lexer": "ipython3",
   "version": "3.10.8"
  }
 },
 "nbformat": 4,
 "nbformat_minor": 5
}
